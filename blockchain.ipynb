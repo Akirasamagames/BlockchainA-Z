{
  "nbformat": 4,
  "nbformat_minor": 0,
  "metadata": {
    "colab": {
      "name": "blockchain.ipynb",
      "provenance": [],
      "collapsed_sections": [],
      "authorship_tag": "ABX9TyNHzo+a5OESfjZv5gi4uvCk",
      "include_colab_link": true
    },
    "kernelspec": {
      "name": "python3",
      "display_name": "Python 3"
    },
    "language_info": {
      "name": "python"
    }
  },
  "cells": [
    {
      "cell_type": "markdown",
      "metadata": {
        "id": "view-in-github",
        "colab_type": "text"
      },
      "source": [
        "<a href=\"https://colab.research.google.com/github/Akirasamagames/BlockchainA-Z/blob/main/blockchain.ipynb\" target=\"_parent\"><img src=\"https://colab.research.google.com/assets/colab-badge.svg\" alt=\"Open In Colab\"/></a>"
      ]
    },
    {
      "cell_type": "code",
      "metadata": {
        "id": "w9W8TklEQq91"
      },
      "source": [
        "import \n",
        "import\n",
        "import\n",
        "import flask from Flask\n",
        "\n",
        "class blockchain():\n",
        "  def __init__(self,proof,hash,previous_hash)\n",
        "       block=block\n",
        "       "
      ],
      "execution_count": null,
      "outputs": []
    }
  ]
}