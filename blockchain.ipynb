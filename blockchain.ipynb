{
  "nbformat": 4,
  "nbformat_minor": 0,
  "metadata": {
    "colab": {
      "name": "blockchain.ipynb",
      "provenance": [],
      "collapsed_sections": [],
      "authorship_tag": "ABX9TyNy/2XpulnhrUJ+TxRYx6Rk",
      "include_colab_link": true
    },
    "kernelspec": {
      "name": "python3",
      "display_name": "Python 3"
    },
    "language_info": {
      "name": "python"
    }
  },
  "cells": [
    {
      "cell_type": "markdown",
      "metadata": {
        "id": "view-in-github",
        "colab_type": "text"
      },
      "source": [
        "<a href=\"https://colab.research.google.com/github/Akirasamagames/BlockchainA-Z/blob/main/blockchain.ipynb\" target=\"_parent\"><img src=\"https://colab.research.google.com/assets/colab-badge.svg\" alt=\"Open In Colab\"/></a>"
      ]
    },
    {
      "cell_type": "code",
      "metadata": {
        "id": "w9W8TklEQq91"
      },
      "source": [
        "import datetime\n",
        "import hashlib\n",
        "import json\n",
        "from flask import Flask, jsonify, request\n",
        "import requests\n",
        "from uuid import uuid4\n",
        "from urllib.parse import urlparse\n",
        "\n",
        "#parte 1\n",
        "\n",
        "class blockchain:\n",
        "  def __init__(self)\n",
        "      self.chain=[]\n",
        "      self.create_block(proof=1,previous_hash=\"0\")\n",
        "  def create_block(self,proof,previous_hash):\n",
        "      block={\"index\": len(self.chain)+1\n",
        "             \"timestamp\":str(datetime.datetime.now()),\n",
        "             \"proof\": proof,\n",
        "             \"previous_hash\": previous_hash}\n",
        "      self.chain.append(block)\n",
        "      return block\n",
        "  def get_previous_block(self):\n",
        "      return self.chain[-1]\n",
        "  def proof_of_work(self, previous_proof):\n",
        "      new_proof=1\n",
        "      chech_proof= False\n",
        "      while check_proof is False:\n",
        "          hash_operation=hashlib.sha256(str(new_proof**2 - previous_proof**2).encode()).hexdigest()\n",
        "          if hash_operation[:4]==\"0000\":\n",
        "             check_proof = True\n",
        "          else:\n",
        "             new_proof +=1\n",
        "      return new_proof           \n",
        "       "
      ],
      "execution_count": null,
      "outputs": []
    },
    {
      "cell_type": "code",
      "metadata": {
        "id": "l0qhQ9JlUr7d"
      },
      "source": [
        ""
      ],
      "execution_count": null,
      "outputs": []
    }
  ]
}